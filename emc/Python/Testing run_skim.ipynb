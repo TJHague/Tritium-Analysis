{
 "cells": [
  {
   "cell_type": "code",
   "execution_count": 1,
   "metadata": {},
   "outputs": [],
   "source": [
    "import numpy as np\n",
    "import pandas as pd"
   ]
  },
  {
   "cell_type": "code",
   "execution_count": 2,
   "metadata": {},
   "outputs": [],
   "source": [
    "kins = ['0']\n",
    "targets = ['He3','H3','D2','H1']"
   ]
  },
  {
   "cell_type": "code",
   "execution_count": 77,
   "metadata": {},
   "outputs": [],
   "source": [
    "z_cuts_upstream   = ['-.08', '-.08', '-.08', '-.08', '-.08', '-.09', '-.09', '-.095','-.095','-.1',  '-.1',  '-.105']\n",
    "z_cuts_downstream = ['.1',  '.1',  '.1',  '.1',  '.1',  '.1',  '.1',  '.1',  '.1',  '.105', '.105', '.11']\n",
    "acc_loose = \"dp>-0.04 & dp<0.04 & Theta>-0.06 & Theta<0.06 & Phi>-0.03 & Phi<0.03\"\n",
    "acc_elliptical = \"dp>-0.04 & dp<0.04 & (((Phi/0.033)**2) + (((Theta-0.0025)/0.0675)**2))<1.0\""
   ]
  },
  {
   "cell_type": "code",
   "execution_count": 4,
   "metadata": {},
   "outputs": [],
   "source": [
    "acc = acc_loose\n"
   ]
  },
  {
   "cell_type": "code",
   "execution_count": 13,
   "metadata": {},
   "outputs": [],
   "source": [
    "raw_location = \"../../../../data/pass2_raw/\""
   ]
  },
  {
   "cell_type": "code",
   "execution_count": 6,
   "metadata": {},
   "outputs": [],
   "source": [
    "bcm_gain   = 0.00033518\n",
    "bcm_offset = 0.0217\n",
    "clock_rate = 103700.0"
   ]
  },
  {
   "cell_type": "code",
   "execution_count": 7,
   "metadata": {},
   "outputs": [],
   "source": [
    "meta_data = pd.DataFrame(columns=['T2','T2s','lt','avgI','Q'])"
   ]
  },
  {
   "cell_type": "markdown",
   "metadata": {},
   "source": [
    "Really I'm just testing stuff right now to see why my main script doesn't output what I think it should. I'm ignoring the loops for now and just using the first item in each list to see what happens"
   ]
  },
  {
   "cell_type": "code",
   "execution_count": 8,
   "metadata": {},
   "outputs": [],
   "source": [
    "f = open(\"../../../HallA-Online-Tritium/batch_farm/\"+targets[0]+\"_kin\"+kins[0]+\".dat\",\"r\")"
   ]
  },
  {
   "cell_type": "code",
   "execution_count": 10,
   "metadata": {},
   "outputs": [],
   "source": [
    "data = f.read().splitlines()"
   ]
  },
  {
   "cell_type": "code",
   "execution_count": 11,
   "metadata": {},
   "outputs": [
    {
     "data": {
      "text/plain": [
       "['2525',\n",
       " '2526',\n",
       " '2527',\n",
       " '2528',\n",
       " '2529',\n",
       " '2530',\n",
       " '2531',\n",
       " '2533',\n",
       " '2534',\n",
       " '2535',\n",
       " '2536',\n",
       " '2537',\n",
       " '2538',\n",
       " '2539',\n",
       " '2540',\n",
       " '2542',\n",
       " '2543',\n",
       " '2546',\n",
       " '2547',\n",
       " '2548',\n",
       " '2549',\n",
       " '2550',\n",
       " '2551',\n",
       " '2552',\n",
       " '2553',\n",
       " '2554']"
      ]
     },
     "execution_count": 11,
     "metadata": {},
     "output_type": "execute_result"
    }
   ],
   "source": [
    "data"
   ]
  },
  {
   "cell_type": "code",
   "execution_count": 45,
   "metadata": {},
   "outputs": [],
   "source": [
    "run_events = pd.read_csv(raw_location+data[0]+\".csv\")\n",
    "run_events = run_events.replace([np.inf, -np.inf, np.nan, -np.nan], 0)\n",
    "#run_events = run_events.fillna(0)"
   ]
  },
  {
   "cell_type": "code",
   "execution_count": 46,
   "metadata": {},
   "outputs": [
    {
     "data": {
      "text/html": [
       "<div>\n",
       "<style scoped>\n",
       "    .dataframe tbody tr th:only-of-type {\n",
       "        vertical-align: middle;\n",
       "    }\n",
       "\n",
       "    .dataframe tbody tr th {\n",
       "        vertical-align: top;\n",
       "    }\n",
       "\n",
       "    .dataframe thead th {\n",
       "        text-align: right;\n",
       "    }\n",
       "</style>\n",
       "<table border=\"1\" class=\"dataframe\">\n",
       "  <thead>\n",
       "    <tr style=\"text-align: right;\">\n",
       "      <th></th>\n",
       "      <th>Cherenkov</th>\n",
       "      <th>Preshower</th>\n",
       "      <th>Shower</th>\n",
       "      <th>Momentum</th>\n",
       "      <th>nTracks</th>\n",
       "      <th>Phi</th>\n",
       "      <th>Theta</th>\n",
       "      <th>dp</th>\n",
       "      <th>Z</th>\n",
       "      <th>x</th>\n",
       "      <th>Q2</th>\n",
       "      <th>W2</th>\n",
       "      <th>x no EL</th>\n",
       "      <th>Q2 no EL</th>\n",
       "      <th>W2 no EL</th>\n",
       "      <th>dnew</th>\n",
       "      <th>dnew_rate</th>\n",
       "      <th>clock</th>\n",
       "      <th>T2</th>\n",
       "      <th>T2scalar</th>\n",
       "    </tr>\n",
       "  </thead>\n",
       "  <tbody>\n",
       "    <tr>\n",
       "      <th>0</th>\n",
       "      <td>68.6802</td>\n",
       "      <td>159.172</td>\n",
       "      <td>447.743</td>\n",
       "      <td>3.05536</td>\n",
       "      <td>1</td>\n",
       "      <td>-0.002532</td>\n",
       "      <td>-0.026722</td>\n",
       "      <td>-0.014408</td>\n",
       "      <td>0.132256</td>\n",
       "      <td>0.000000</td>\n",
       "      <td>0.00000</td>\n",
       "      <td>0.0000</td>\n",
       "      <td>0.194174</td>\n",
       "      <td>2.74552</td>\n",
       "      <td>12.2479</td>\n",
       "      <td>805987.0</td>\n",
       "      <td>0.0</td>\n",
       "      <td>0.0</td>\n",
       "      <td>0</td>\n",
       "      <td>0</td>\n",
       "    </tr>\n",
       "    <tr>\n",
       "      <th>1</th>\n",
       "      <td>38.9533</td>\n",
       "      <td>138.710</td>\n",
       "      <td>1455.890</td>\n",
       "      <td>3.09013</td>\n",
       "      <td>1</td>\n",
       "      <td>-0.001396</td>\n",
       "      <td>-0.043285</td>\n",
       "      <td>-0.003193</td>\n",
       "      <td>-0.116771</td>\n",
       "      <td>0.201939</td>\n",
       "      <td>2.84345</td>\n",
       "      <td>12.0913</td>\n",
       "      <td>0.201848</td>\n",
       "      <td>2.84258</td>\n",
       "      <td>12.0942</td>\n",
       "      <td>806032.0</td>\n",
       "      <td>0.0</td>\n",
       "      <td>0.0</td>\n",
       "      <td>0</td>\n",
       "      <td>0</td>\n",
       "    </tr>\n",
       "    <tr>\n",
       "      <th>2</th>\n",
       "      <td>5384.8800</td>\n",
       "      <td>1775.130</td>\n",
       "      <td>1315.250</td>\n",
       "      <td>3.01002</td>\n",
       "      <td>1</td>\n",
       "      <td>0.019121</td>\n",
       "      <td>0.047260</td>\n",
       "      <td>-0.029035</td>\n",
       "      <td>-0.011569</td>\n",
       "      <td>0.222152</td>\n",
       "      <td>3.15995</td>\n",
       "      <td>11.9181</td>\n",
       "      <td>0.222054</td>\n",
       "      <td>3.15901</td>\n",
       "      <td>11.9211</td>\n",
       "      <td>806061.0</td>\n",
       "      <td>0.0</td>\n",
       "      <td>0.0</td>\n",
       "      <td>1</td>\n",
       "      <td>0</td>\n",
       "    </tr>\n",
       "    <tr>\n",
       "      <th>3</th>\n",
       "      <td>15.2741</td>\n",
       "      <td>809.482</td>\n",
       "      <td>364.165</td>\n",
       "      <td>3.06823</td>\n",
       "      <td>1</td>\n",
       "      <td>-0.019615</td>\n",
       "      <td>0.026340</td>\n",
       "      <td>-0.010257</td>\n",
       "      <td>0.131656</td>\n",
       "      <td>0.000000</td>\n",
       "      <td>0.00000</td>\n",
       "      <td>0.0000</td>\n",
       "      <td>0.172783</td>\n",
       "      <td>2.44002</td>\n",
       "      <td>12.5358</td>\n",
       "      <td>806086.0</td>\n",
       "      <td>0.0</td>\n",
       "      <td>0.0</td>\n",
       "      <td>0</td>\n",
       "      <td>0</td>\n",
       "    </tr>\n",
       "    <tr>\n",
       "      <th>4</th>\n",
       "      <td>52.6714</td>\n",
       "      <td>127.665</td>\n",
       "      <td>1036.650</td>\n",
       "      <td>3.07611</td>\n",
       "      <td>1</td>\n",
       "      <td>-0.014451</td>\n",
       "      <td>-0.032785</td>\n",
       "      <td>-0.007716</td>\n",
       "      <td>-0.044122</td>\n",
       "      <td>0.181602</td>\n",
       "      <td>2.56119</td>\n",
       "      <td>12.3961</td>\n",
       "      <td>0.181517</td>\n",
       "      <td>2.56039</td>\n",
       "      <td>12.3991</td>\n",
       "      <td>806185.0</td>\n",
       "      <td>0.0</td>\n",
       "      <td>0.0</td>\n",
       "      <td>0</td>\n",
       "      <td>0</td>\n",
       "    </tr>\n",
       "  </tbody>\n",
       "</table>\n",
       "</div>"
      ],
      "text/plain": [
       "   Cherenkov  Preshower    Shower  Momentum  nTracks       Phi     Theta  \\\n",
       "0    68.6802    159.172   447.743   3.05536        1 -0.002532 -0.026722   \n",
       "1    38.9533    138.710  1455.890   3.09013        1 -0.001396 -0.043285   \n",
       "2  5384.8800   1775.130  1315.250   3.01002        1  0.019121  0.047260   \n",
       "3    15.2741    809.482   364.165   3.06823        1 -0.019615  0.026340   \n",
       "4    52.6714    127.665  1036.650   3.07611        1 -0.014451 -0.032785   \n",
       "\n",
       "         dp         Z         x       Q2       W2   x no EL  Q2 no EL  \\\n",
       "0 -0.014408  0.132256  0.000000  0.00000   0.0000  0.194174   2.74552   \n",
       "1 -0.003193 -0.116771  0.201939  2.84345  12.0913  0.201848   2.84258   \n",
       "2 -0.029035 -0.011569  0.222152  3.15995  11.9181  0.222054   3.15901   \n",
       "3 -0.010257  0.131656  0.000000  0.00000   0.0000  0.172783   2.44002   \n",
       "4 -0.007716 -0.044122  0.181602  2.56119  12.3961  0.181517   2.56039   \n",
       "\n",
       "   W2 no EL      dnew  dnew_rate  clock  T2  T2scalar  \n",
       "0   12.2479  805987.0        0.0    0.0   0         0  \n",
       "1   12.0942  806032.0        0.0    0.0   0         0  \n",
       "2   11.9211  806061.0        0.0    0.0   1         0  \n",
       "3   12.5358  806086.0        0.0    0.0   0         0  \n",
       "4   12.3991  806185.0        0.0    0.0   0         0  "
      ]
     },
     "execution_count": 46,
     "metadata": {},
     "output_type": "execute_result"
    }
   ],
   "source": [
    "run_events.head()"
   ]
  },
  {
   "cell_type": "code",
   "execution_count": 78,
   "metadata": {},
   "outputs": [],
   "source": [
    "cut = 'nTracks==1 & W2>3.0 & ((Preshower + Shower)/Momentum)>0.7 & '+ acc\n",
    "cut  = cut + ' & Z>' + z_cuts_upstream[0] + ' & Z<' + z_cuts_downstream[0] + ' & '\n",
    "cut = cut + ' Cherenkov>1500'"
   ]
  },
  {
   "cell_type": "code",
   "execution_count": 79,
   "metadata": {},
   "outputs": [
    {
     "data": {
      "text/plain": [
       "'nTracks==1 & W2>3.0 & ((Preshower + Shower)/Momentum)>0.7 & dp>-0.04 & dp<0.04 & Theta>-0.06 & Theta<0.06 & Phi>-0.03 & Phi<0.03 & Z>-.08 & Z<.1 &  Cherenkov>1500'"
      ]
     },
     "execution_count": 79,
     "metadata": {},
     "output_type": "execute_result"
    }
   ],
   "source": [
    "cut"
   ]
  },
  {
   "cell_type": "code",
   "execution_count": 80,
   "metadata": {},
   "outputs": [],
   "source": [
    "cleaned = run_events.query(cut)"
   ]
  },
  {
   "cell_type": "code",
   "execution_count": 81,
   "metadata": {},
   "outputs": [
    {
     "data": {
      "text/html": [
       "<div>\n",
       "<style scoped>\n",
       "    .dataframe tbody tr th:only-of-type {\n",
       "        vertical-align: middle;\n",
       "    }\n",
       "\n",
       "    .dataframe tbody tr th {\n",
       "        vertical-align: top;\n",
       "    }\n",
       "\n",
       "    .dataframe thead th {\n",
       "        text-align: right;\n",
       "    }\n",
       "</style>\n",
       "<table border=\"1\" class=\"dataframe\">\n",
       "  <thead>\n",
       "    <tr style=\"text-align: right;\">\n",
       "      <th></th>\n",
       "      <th>Cherenkov</th>\n",
       "      <th>Preshower</th>\n",
       "      <th>Shower</th>\n",
       "      <th>Momentum</th>\n",
       "      <th>nTracks</th>\n",
       "      <th>Phi</th>\n",
       "      <th>Theta</th>\n",
       "      <th>dp</th>\n",
       "      <th>Z</th>\n",
       "      <th>x</th>\n",
       "      <th>Q2</th>\n",
       "      <th>W2</th>\n",
       "      <th>x no EL</th>\n",
       "      <th>Q2 no EL</th>\n",
       "      <th>W2 no EL</th>\n",
       "      <th>dnew</th>\n",
       "      <th>dnew_rate</th>\n",
       "      <th>clock</th>\n",
       "      <th>T2</th>\n",
       "      <th>T2scalar</th>\n",
       "    </tr>\n",
       "  </thead>\n",
       "  <tbody>\n",
       "    <tr>\n",
       "      <th>2</th>\n",
       "      <td>5384.88</td>\n",
       "      <td>1775.1300</td>\n",
       "      <td>1315.2500</td>\n",
       "      <td>3.01002</td>\n",
       "      <td>1</td>\n",
       "      <td>0.019121</td>\n",
       "      <td>0.047260</td>\n",
       "      <td>-0.029035</td>\n",
       "      <td>-0.011569</td>\n",
       "      <td>0.222152</td>\n",
       "      <td>3.15995</td>\n",
       "      <td>11.9181</td>\n",
       "      <td>0.222054</td>\n",
       "      <td>3.15901</td>\n",
       "      <td>11.9211</td>\n",
       "      <td>806061.0</td>\n",
       "      <td>0.0</td>\n",
       "      <td>0.0</td>\n",
       "      <td>1</td>\n",
       "      <td>0</td>\n",
       "    </tr>\n",
       "    <tr>\n",
       "      <th>32</th>\n",
       "      <td>43143.00</td>\n",
       "      <td>58.8229</td>\n",
       "      <td>77.9567</td>\n",
       "      <td>3.16851</td>\n",
       "      <td>1</td>\n",
       "      <td>-0.023662</td>\n",
       "      <td>0.008394</td>\n",
       "      <td>0.022090</td>\n",
       "      <td>-0.013577</td>\n",
       "      <td>0.174670</td>\n",
       "      <td>2.43275</td>\n",
       "      <td>12.3492</td>\n",
       "      <td>0.174587</td>\n",
       "      <td>2.43199</td>\n",
       "      <td>12.3522</td>\n",
       "      <td>808259.0</td>\n",
       "      <td>691.0</td>\n",
       "      <td>0.0</td>\n",
       "      <td>1</td>\n",
       "      <td>2</td>\n",
       "    </tr>\n",
       "    <tr>\n",
       "      <th>122</th>\n",
       "      <td>5292.92</td>\n",
       "      <td>1851.6900</td>\n",
       "      <td>1318.7700</td>\n",
       "      <td>3.14407</td>\n",
       "      <td>1</td>\n",
       "      <td>-0.011482</td>\n",
       "      <td>0.006435</td>\n",
       "      <td>0.014207</td>\n",
       "      <td>0.076603</td>\n",
       "      <td>0.188404</td>\n",
       "      <td>2.63291</td>\n",
       "      <td>12.1961</td>\n",
       "      <td>0.188317</td>\n",
       "      <td>2.63212</td>\n",
       "      <td>12.1991</td>\n",
       "      <td>813404.0</td>\n",
       "      <td>4438.0</td>\n",
       "      <td>63133.2</td>\n",
       "      <td>1</td>\n",
       "      <td>13</td>\n",
       "    </tr>\n",
       "    <tr>\n",
       "      <th>172</th>\n",
       "      <td>4628.59</td>\n",
       "      <td>1751.7900</td>\n",
       "      <td>1257.9300</td>\n",
       "      <td>3.16786</td>\n",
       "      <td>1</td>\n",
       "      <td>-0.005537</td>\n",
       "      <td>0.029940</td>\n",
       "      <td>0.021882</td>\n",
       "      <td>-0.015867</td>\n",
       "      <td>0.200447</td>\n",
       "      <td>2.79193</td>\n",
       "      <td>11.9909</td>\n",
       "      <td>0.200356</td>\n",
       "      <td>2.79110</td>\n",
       "      <td>11.9939</td>\n",
       "      <td>816600.0</td>\n",
       "      <td>5825.0</td>\n",
       "      <td>63155.6</td>\n",
       "      <td>1</td>\n",
       "      <td>17</td>\n",
       "    </tr>\n",
       "    <tr>\n",
       "      <th>181</th>\n",
       "      <td>4035.71</td>\n",
       "      <td>1835.7100</td>\n",
       "      <td>1287.3500</td>\n",
       "      <td>2.98747</td>\n",
       "      <td>1</td>\n",
       "      <td>-0.017399</td>\n",
       "      <td>0.044707</td>\n",
       "      <td>-0.036310</td>\n",
       "      <td>-0.039503</td>\n",
       "      <td>0.172441</td>\n",
       "      <td>2.45999</td>\n",
       "      <td>12.6594</td>\n",
       "      <td>0.172359</td>\n",
       "      <td>2.45919</td>\n",
       "      <td>12.6624</td>\n",
       "      <td>817484.0</td>\n",
       "      <td>6826.0</td>\n",
       "      <td>63064.2</td>\n",
       "      <td>1</td>\n",
       "      <td>19</td>\n",
       "    </tr>\n",
       "  </tbody>\n",
       "</table>\n",
       "</div>"
      ],
      "text/plain": [
       "     Cherenkov  Preshower     Shower  Momentum  nTracks       Phi     Theta  \\\n",
       "2      5384.88  1775.1300  1315.2500   3.01002        1  0.019121  0.047260   \n",
       "32    43143.00    58.8229    77.9567   3.16851        1 -0.023662  0.008394   \n",
       "122    5292.92  1851.6900  1318.7700   3.14407        1 -0.011482  0.006435   \n",
       "172    4628.59  1751.7900  1257.9300   3.16786        1 -0.005537  0.029940   \n",
       "181    4035.71  1835.7100  1287.3500   2.98747        1 -0.017399  0.044707   \n",
       "\n",
       "           dp         Z         x       Q2       W2   x no EL  Q2 no EL  \\\n",
       "2   -0.029035 -0.011569  0.222152  3.15995  11.9181  0.222054   3.15901   \n",
       "32   0.022090 -0.013577  0.174670  2.43275  12.3492  0.174587   2.43199   \n",
       "122  0.014207  0.076603  0.188404  2.63291  12.1961  0.188317   2.63212   \n",
       "172  0.021882 -0.015867  0.200447  2.79193  11.9909  0.200356   2.79110   \n",
       "181 -0.036310 -0.039503  0.172441  2.45999  12.6594  0.172359   2.45919   \n",
       "\n",
       "     W2 no EL      dnew  dnew_rate    clock  T2  T2scalar  \n",
       "2     11.9211  806061.0        0.0      0.0   1         0  \n",
       "32    12.3522  808259.0      691.0      0.0   1         2  \n",
       "122   12.1991  813404.0     4438.0  63133.2   1        13  \n",
       "172   11.9939  816600.0     5825.0  63155.6   1        17  \n",
       "181   12.6624  817484.0     6826.0  63064.2   1        19  "
      ]
     },
     "execution_count": 81,
     "metadata": {},
     "output_type": "execute_result"
    }
   ],
   "source": [
    "cleaned.head()"
   ]
  },
  {
   "cell_type": "code",
   "execution_count": 84,
   "metadata": {},
   "outputs": [
    {
     "data": {
      "text/plain": [
       "'2525'"
      ]
     },
     "execution_count": 84,
     "metadata": {},
     "output_type": "execute_result"
    }
   ],
   "source": [
    "run = data[0]\n",
    "run"
   ]
  },
  {
   "cell_type": "code",
   "execution_count": 87,
   "metadata": {},
   "outputs": [
    {
     "data": {
      "text/html": [
       "<div>\n",
       "<style scoped>\n",
       "    .dataframe tbody tr th:only-of-type {\n",
       "        vertical-align: middle;\n",
       "    }\n",
       "\n",
       "    .dataframe tbody tr th {\n",
       "        vertical-align: top;\n",
       "    }\n",
       "\n",
       "    .dataframe thead th {\n",
       "        text-align: right;\n",
       "    }\n",
       "</style>\n",
       "<table border=\"1\" class=\"dataframe\">\n",
       "  <thead>\n",
       "    <tr style=\"text-align: right;\">\n",
       "      <th></th>\n",
       "      <th>T2</th>\n",
       "      <th>T2s</th>\n",
       "      <th>lt</th>\n",
       "      <th>avgI</th>\n",
       "      <th>Q</th>\n",
       "    </tr>\n",
       "  </thead>\n",
       "  <tbody>\n",
       "    <tr>\n",
       "      <th>2525</th>\n",
       "      <td>158835</td>\n",
       "      <td>NaN</td>\n",
       "      <td>NaN</td>\n",
       "      <td>NaN</td>\n",
       "      <td>NaN</td>\n",
       "    </tr>\n",
       "  </tbody>\n",
       "</table>\n",
       "</div>"
      ],
      "text/plain": [
       "          T2  T2s   lt avgI    Q\n",
       "2525  158835  NaN  NaN  NaN  NaN"
      ]
     },
     "execution_count": 87,
     "metadata": {},
     "output_type": "execute_result"
    }
   ],
   "source": [
    "meta_data.at[run,'T2'] = run_events.T2.sum()\n",
    "meta_data.head()"
   ]
  },
  {
   "cell_type": "code",
   "execution_count": 88,
   "metadata": {},
   "outputs": [
    {
     "data": {
      "text/html": [
       "<div>\n",
       "<style scoped>\n",
       "    .dataframe tbody tr th:only-of-type {\n",
       "        vertical-align: middle;\n",
       "    }\n",
       "\n",
       "    .dataframe tbody tr th {\n",
       "        vertical-align: top;\n",
       "    }\n",
       "\n",
       "    .dataframe thead th {\n",
       "        text-align: right;\n",
       "    }\n",
       "</style>\n",
       "<table border=\"1\" class=\"dataframe\">\n",
       "  <thead>\n",
       "    <tr style=\"text-align: right;\">\n",
       "      <th></th>\n",
       "      <th>T2</th>\n",
       "      <th>T2s</th>\n",
       "      <th>lt</th>\n",
       "      <th>avgI</th>\n",
       "      <th>Q</th>\n",
       "    </tr>\n",
       "  </thead>\n",
       "  <tbody>\n",
       "    <tr>\n",
       "      <th>2525</th>\n",
       "      <td>158835</td>\n",
       "      <td>168254</td>\n",
       "      <td>NaN</td>\n",
       "      <td>NaN</td>\n",
       "      <td>NaN</td>\n",
       "    </tr>\n",
       "  </tbody>\n",
       "</table>\n",
       "</div>"
      ],
      "text/plain": [
       "          T2     T2s   lt avgI    Q\n",
       "2525  158835  168254  NaN  NaN  NaN"
      ]
     },
     "execution_count": 88,
     "metadata": {},
     "output_type": "execute_result"
    }
   ],
   "source": [
    "meta_data.at[run,'T2s'] = run_events.T2scalar.iloc[-1]\n",
    "meta_data.head()"
   ]
  },
  {
   "cell_type": "code",
   "execution_count": 89,
   "metadata": {},
   "outputs": [
    {
     "data": {
      "text/html": [
       "<div>\n",
       "<style scoped>\n",
       "    .dataframe tbody tr th:only-of-type {\n",
       "        vertical-align: middle;\n",
       "    }\n",
       "\n",
       "    .dataframe tbody tr th {\n",
       "        vertical-align: top;\n",
       "    }\n",
       "\n",
       "    .dataframe thead th {\n",
       "        text-align: right;\n",
       "    }\n",
       "</style>\n",
       "<table border=\"1\" class=\"dataframe\">\n",
       "  <thead>\n",
       "    <tr style=\"text-align: right;\">\n",
       "      <th></th>\n",
       "      <th>T2</th>\n",
       "      <th>T2s</th>\n",
       "      <th>lt</th>\n",
       "      <th>avgI</th>\n",
       "      <th>Q</th>\n",
       "    </tr>\n",
       "  </thead>\n",
       "  <tbody>\n",
       "    <tr>\n",
       "      <th>2525</th>\n",
       "      <td>158835</td>\n",
       "      <td>168254</td>\n",
       "      <td>0.944019</td>\n",
       "      <td>NaN</td>\n",
       "      <td>NaN</td>\n",
       "    </tr>\n",
       "  </tbody>\n",
       "</table>\n",
       "</div>"
      ],
      "text/plain": [
       "          T2     T2s        lt avgI    Q\n",
       "2525  158835  168254  0.944019  NaN  NaN"
      ]
     },
     "execution_count": 89,
     "metadata": {},
     "output_type": "execute_result"
    }
   ],
   "source": [
    "meta_data.at[run,'lt']   = meta_data.at[run,'T2']/meta_data.at[run,'T2s']\n",
    "meta_data.head()"
   ]
  },
  {
   "cell_type": "code",
   "execution_count": 100,
   "metadata": {},
   "outputs": [
    {
     "data": {
      "text/html": [
       "<div>\n",
       "<style scoped>\n",
       "    .dataframe tbody tr th:only-of-type {\n",
       "        vertical-align: middle;\n",
       "    }\n",
       "\n",
       "    .dataframe tbody tr th {\n",
       "        vertical-align: top;\n",
       "    }\n",
       "\n",
       "    .dataframe thead th {\n",
       "        text-align: right;\n",
       "    }\n",
       "</style>\n",
       "<table border=\"1\" class=\"dataframe\">\n",
       "  <thead>\n",
       "    <tr style=\"text-align: right;\">\n",
       "      <th></th>\n",
       "      <th>T2</th>\n",
       "      <th>T2s</th>\n",
       "      <th>lt</th>\n",
       "      <th>avgI</th>\n",
       "      <th>Q</th>\n",
       "    </tr>\n",
       "  </thead>\n",
       "  <tbody>\n",
       "    <tr>\n",
       "      <th>2525</th>\n",
       "      <td>158835</td>\n",
       "      <td>168254</td>\n",
       "      <td>0.944019</td>\n",
       "      <td>NaN</td>\n",
       "      <td>14072.5</td>\n",
       "    </tr>\n",
       "  </tbody>\n",
       "</table>\n",
       "</div>"
      ],
      "text/plain": [
       "          T2     T2s        lt avgI        Q\n",
       "2525  158835  168254  0.944019  NaN  14072.5"
      ]
     },
     "execution_count": 100,
     "metadata": {},
     "output_type": "execute_result"
    }
   ],
   "source": [
    "meta_data.at[run,'Q']    = (run_events.dnew_rate.iloc[-1]*bcm_gain) + (run_events.dnew.iloc[-1]*bcm_offset/clock_rate)\n",
    "meta_data.head()"
   ]
  },
  {
   "cell_type": "code",
   "execution_count": 103,
   "metadata": {},
   "outputs": [
    {
     "data": {
      "text/plain": [
       "7027.486063056072"
      ]
     },
     "execution_count": 103,
     "metadata": {},
     "output_type": "execute_result"
    }
   ],
   "source": [
    "run_events.query('dnew_rate>0.0').dnew_rate.sum()*bcm_gain/run_events.query('dnew_rate>0.0').shape[0]"
   ]
  },
  {
   "cell_type": "code",
   "execution_count": 98,
   "metadata": {},
   "outputs": [
    {
     "data": {
      "text/plain": [
       "1396.20621"
      ]
     },
     "execution_count": 98,
     "metadata": {},
     "output_type": "execute_result"
    }
   ],
   "source": []
  },
  {
   "cell_type": "code",
   "execution_count": null,
   "metadata": {},
   "outputs": [],
   "source": []
  }
 ],
 "metadata": {
  "kernelspec": {
   "display_name": "Python 3",
   "language": "python",
   "name": "python3"
  },
  "language_info": {
   "codemirror_mode": {
    "name": "ipython",
    "version": 3
   },
   "file_extension": ".py",
   "mimetype": "text/x-python",
   "name": "python",
   "nbconvert_exporter": "python",
   "pygments_lexer": "ipython3",
   "version": "3.7.1"
  }
 },
 "nbformat": 4,
 "nbformat_minor": 2
}
