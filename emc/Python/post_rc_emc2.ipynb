{
 "cells": [
  {
   "cell_type": "code",
   "execution_count": 1,
   "metadata": {},
   "outputs": [],
   "source": [
    "import numpy as np\n",
    "import pandas as pd\n",
    "import matplotlib.pyplot as plt\n",
    "import math\n",
    "import corrections as cor\n",
    "import uncertainties as unc"
   ]
  },
  {
   "cell_type": "code",
   "execution_count": 2,
   "metadata": {},
   "outputs": [],
   "source": [
    "#String of kins used for finding the runlists\n",
    "kins = ['0','1','2','3','4','5','7_1st','7_2nd','9_1st','9_2nd','11_1st','11_2nd','13_1st','13_2nd','15_1st','15_2nd','15_3rd','16_1st','16_2nd']\n",
    "targs = ['H3','He3','H2','H1']\n",
    "\n",
    "#Small lists for testing\n",
    "#kins = ['0']\n",
    "#targs = ['He3']"
   ]
  },
  {
   "cell_type": "markdown",
   "metadata": {},
   "source": [
    "Below: Apply Radiative Corrections\n",
    "\n",
    "Must run RC on ksu1 under radcor2 directory first. Move the `_xs` files to `radcor/out`.\n",
    "Method for applying is slightly brute force. Bins go in order of lowest to highest and are only calculated for bins with Counts!=0.\n",
    "\n",
    "Could be made more robust by calculating the bin for the radiative correction by determining which bin the `x` value falls in. May do this later."
   ]
  },
  {
   "cell_type": "code",
   "execution_count": 3,
   "metadata": {},
   "outputs": [
    {
     "name": "stdout",
     "output_type": "stream",
     "text": [
      "None\n",
      "None\n",
      "None\n",
      "None\n",
      "None\n",
      "None\n",
      "None\n",
      "None\n",
      "None\n",
      "None\n",
      "None\n",
      "None\n"
     ]
    }
   ],
   "source": [
    "for targ in targs:\n",
    "    for kin in kins:\n",
    "        try:\n",
    "            df = pd.read_csv(\"dataframes/pre_rc/\" + targ + \"/kin\" + kin + \".csv\")\n",
    "            \n",
    "            rc = pd.read_csv(\"radcor/out/\" + targ + kin + \"_xs.out\",delim_whitespace=True)\n",
    "            \n",
    "            #get indices of non-zero bins in df\n",
    "            nz = df.loc[df.Counts!=0].index.tolist()\n",
    "            \n",
    "            for i,b in enumerate(nz):\n",
    "                df.at[b,'Yield'] /= rc.at[i,'Rad_cor']\n",
    "            \n",
    "            df.to_csv(\"dataframes/post_rc/\" + targ + \"/kin\" + kin + \".csv\")\n",
    "        except FileNotFoundError as e:\n",
    "            print(e.filename)"
   ]
  },
  {
   "cell_type": "markdown",
   "metadata": {},
   "source": [
    "Next, take ratios, combine the iterations, and drop the edge bins. Edge bins are dropped because they are at the edge of the acceptance."
   ]
  }
 ],
 "metadata": {
  "kernelspec": {
   "display_name": "Python 3",
   "language": "python",
   "name": "python3"
  },
  "language_info": {
   "codemirror_mode": {
    "name": "ipython",
    "version": 3
   },
   "file_extension": ".py",
   "mimetype": "text/x-python",
   "name": "python",
   "nbconvert_exporter": "python",
   "pygments_lexer": "ipython3",
   "version": "3.7.1"
  }
 },
 "nbformat": 4,
 "nbformat_minor": 2
}
