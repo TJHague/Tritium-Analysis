{
 "cells": [
  {
   "cell_type": "code",
   "execution_count": 1,
   "metadata": {},
   "outputs": [],
   "source": [
    "import numpy as np\n",
    "import pandas as pd\n",
    "import matplotlib.pyplot as plt\n",
    "import math\n",
    "import corrections as cor"
   ]
  },
  {
   "cell_type": "code",
   "execution_count": 4,
   "metadata": {},
   "outputs": [],
   "source": [
    "#Define x bins\n",
    "x_edges = np.arange(0,1.01,0.03)\n",
    "x_centers = [x+0.015 for x in x_edges]\n",
    "\n",
    "#String of kins used for finding the runlists\n",
    "kins = ['0','1','2','3','4','5','7_1st','7_2nd','9_1st','9_2nd','11_1st','11_2nd','13_1st','13_2nd','15_1st','15_2nd','15_3rd','16_1st','16_2nd']\n",
    "targs = ['H3','He3','H2','H1']\n",
    "\n",
    "#Run Metadata\n",
    "meta = pd.read_csv(\"ev_clean/meta.csv\",index_col='run')"
   ]
  },
  {
   "cell_type": "code",
   "execution_count": null,
   "metadata": {},
   "outputs": [],
   "source": [
    "for targ in targs:\n",
    "    for i,kin in enumerate(kins):\n",
    "        #Kinematic charge\n",
    "        kinQ = 0\n",
    "        \n",
    "        #Kinematic Boiling Error\n",
    "        kinBoilE = 0\n",
    "        \n",
    "        #Yield Dataframe\n",
    "        df = pd.DataFrame(columns=['Yield','Counts','RelStat','RelSyst','Avgx','AvgQ2'])\n",
    "        \n",
    "        #Initialize values\n",
    "        df['Yield'].values[:] = 0\n",
    "        df['Counts'].values[:] = 0\n",
    "        df['RelStat'].values[:] = 0\n",
    "        df['RelSyst'].values[:] = 0\n",
    "        df['xSum'].values[:] = 0\n",
    "        df['Q2Sum'].values[:] = 0\n",
    "        \n",
    "        try:\n",
    "            with open(\"./runlists/\" + targ + \"_kin\" + kin + \".dat\",\"r\") as f:\n",
    "                runs = f.read().splitlines()\n",
    "                \n",
    "                for run in runs:\n",
    "                    #Load run\n",
    "                    ev = pd.read_csv(\"ev_clean/\" + run + \".csv\")\n",
    "                    \n",
    "                    #Add in this runs charge\n",
    "                    kinQ = kinQ + meta.at[int(run),'Q']\n",
    "                    \n",
    "                    #Bin in x\n",
    "                    ev['x_bin'] = np.digitize(ev.x,x_edges)\n",
    "                    \n",
    "                    for j in range(len(x_centers)):\n",
    "                        tmp = ev.query('x_bin==' + str(j+1))\n",
    "                        df.Counts.iat[j] = tmp.shape[0]\n",
    "                        df.xSum.iat[j] = tmp.x.sum\n",
    "                        df.Q2Sum.iat[j] = tmp.Q2.sum\n",
    "                        \n",
    "                    df.RelStat = df.Counts.apply(lambda x: 1./math.sqrt(x))\n",
    "                    \n",
    "                    #Apply livetime\n",
    "                    df.Yield = df.Counts.apply(lambda x: x/meta.at[int(run),'lt'])\n",
    "                    \n",
    "                    #Divide by scattering centers\n",
    "                    sc = getattr(cor,targ + 'Nucleons')()\n",
    "                    df.Yield = df.Yield.apply(lambda x: x/sc(meta.at[int(run),'avgI']))\n",
    "                    \n",
    "        except FileNotFoundError:\n",
    "            print (\"./runlists/\" + targ + \"_kin\"+kin+\".dat\" + \" File doesn't exist. Skipping.\")"
   ]
  }
 ],
 "metadata": {
  "kernelspec": {
   "display_name": "Python 3",
   "language": "python",
   "name": "python3"
  },
  "language_info": {
   "codemirror_mode": {
    "name": "ipython",
    "version": 3
   },
   "file_extension": ".py",
   "mimetype": "text/x-python",
   "name": "python",
   "nbconvert_exporter": "python",
   "pygments_lexer": "ipython3",
   "version": "3.7.1"
  }
 },
 "nbformat": 4,
 "nbformat_minor": 2
}
