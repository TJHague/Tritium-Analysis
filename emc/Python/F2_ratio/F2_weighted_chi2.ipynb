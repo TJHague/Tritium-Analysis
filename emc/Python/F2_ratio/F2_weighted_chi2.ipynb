{
 "cells": [
  {
   "cell_type": "code",
   "execution_count": 1,
   "metadata": {},
   "outputs": [],
   "source": [
    "import numpy as np\n",
    "import pandas as pd\n",
    "import matplotlib.pyplot as plt\n",
    "import sys\n",
    "sys.path.append('../')\n",
    "import iso_funcs as iso"
   ]
  },
  {
   "cell_type": "code",
   "execution_count": 2,
   "metadata": {},
   "outputs": [],
   "source": [
    "outf = \"test/\"\n",
    "\n",
    "emc = pd.read_csv(\"../\" + outf + \"dataframes/final/He3_H2.csv\",index_col=0)\n",
    "KP = pd.read_csv('KP_super.csv')\n",
    "f2r_tong = pd.read_csv('f2v.csv')\n",
    "dp_np = pd.read_csv(\"dp_np.csv\")\n",
    "f2r_mike = pd.read_csv('mike_f2r.csv')\n",
    "h3 = pd.read_excel('H3D2.xlsx')\n",
    "\n",
    "norm=2.4\n",
    "h3norm = -0.4"
   ]
  },
  {
   "cell_type": "code",
   "execution_count": 3,
   "metadata": {},
   "outputs": [],
   "source": [
    "c = np.polyfit(KP['x'],KP['R'].apply(np.log),5)\n",
    "h3c = np.polyfit(KP['x'],KP['RH3'].apply(np.log),5)\n",
    "\n",
    "def KP_fit(x):\n",
    "    return np.exp(np.polyval(c,x))\n",
    "\n",
    "def H3KP_fit(x):\n",
    "    return np.exp(np.polyval(h3c,x))"
   ]
  },
  {
   "cell_type": "code",
   "execution_count": 4,
   "metadata": {},
   "outputs": [],
   "source": [
    "#Calculate F2n/F2p from the Helium-3 EMC Ratio\n",
    "emc.Ratio = emc.Ratio*((norm/100) + 1)\n",
    "emc['F2n_F2p'] = (emc['Ratio'] - (2 * KP_fit(emc['BinCenter']))) / (KP_fit(emc['BinCenter']) - emc['Ratio'])\n",
    "\n",
    "#Calculate the uncertainty of this extraction\n",
    "#Uncertainty from the Helium-3 EMC Ratio\n",
    "emc['F2n_F2p_Error'] = ((emc.RelSyst**2 + emc.RelPre**2)**(1/2)) * (KP_fit(emc.BinCenter) / ((KP_fit(emc.BinCenter) - emc.Ratio)**2))\n",
    "\n",
    "#display(emc)\n",
    "\n",
    "h3.Final_Ratio = h3.Final_Ratio*((h3norm/100) + 1)\n",
    "h3['F2n_F2p'] = (h3['Final_Ratio'] - (H3KP_fit(h3['Bin_Center']))) / ((2*H3KP_fit(h3['Bin_Center'])) - h3['Final_Ratio'])\n"
   ]
  },
  {
   "cell_type": "markdown",
   "metadata": {},
   "source": [
    "Now to determine the normalization for He3 using the F2n/F2p extracted from H2/H1 (which agrees with world data) and F2n/F2p extracted from He3/H2 (which is inconsistent with the H2/H1 extraction)."
   ]
  },
  {
   "cell_type": "code",
   "execution_count": 5,
   "metadata": {},
   "outputs": [],
   "source": [
    "#f2r = emc.query('BinCenter>=0.255 & BinCenter<=0.345')\n",
    "#f2r = emc.query('(BinCenter>=0.255 & BinCenter<=0.3) | BinCenter==0.345')\n",
    "f2r = emc.query('(BinCenter>=0.255 & BinCenter<=0.315)')\n",
    "\n",
    "#Uncertainty from the KP model of the Super Ratio\n",
    "#I only have the uncertainty from a select number of points, so this will be applied manually\n",
    "f2r.F2n_F2p_Error.iat[0] = ((f2r.iloc[0].F2n_F2p_Error)**2 + (((0.0024 * KP_fit(f2r.iloc[0].BinCenter))**2) * ((f2r.iloc[0].Ratio/((KP_fit(f2r.iloc[0].BinCenter) - f2r.iloc[0].Ratio)**2))**2)))**(1./2.)\n",
    "f2r.F2n_F2p_Error.iat[1] = ((f2r.iloc[1].F2n_F2p_Error)**2 + (((0.0028 * KP_fit(f2r.iloc[1].BinCenter))**2) * ((f2r.iloc[1].Ratio/((KP_fit(f2r.iloc[1].BinCenter) - f2r.iloc[1].Ratio)**2))**2)))**(1./2.)\n",
    "f2r.F2n_F2p_Error.iat[2] = ((f2r.iloc[2].F2n_F2p_Error)**2 + (((0.0033 * KP_fit(f2r.iloc[2].BinCenter))**2) * ((f2r.iloc[2].Ratio/((KP_fit(f2r.iloc[2].BinCenter) - f2r.iloc[2].Ratio)**2))**2)))**(1./2.)\n",
    "#f2r.F2n_F2p_Error.iat[3] = ((f2r.iloc[3].F2n_F2p_Error)**2 + (((0.0036 * KP_fit(f2r.iloc[3].BinCenter))**2) * ((f2r.iloc[3].Ratio/((KP_fit(f2r.iloc[3].BinCenter) - f2r.iloc[3].Ratio)**2))**2)))**(1./2.)\n",
    "#f2r.F2n_F2p_Error.iat[2] = ((f2r.iloc[2].F2n_F2p_Error)**2 + (((0.0036 * KP_fit(f2r.iloc[2].BinCenter))**2) * ((f2r.iloc[2].Ratio/((KP_fit(f2r.iloc[2].BinCenter) - f2r.iloc[2].Ratio)**2))**2)))**(1./2.)\n",
    "\n",
    "#display(f2r)\n",
    "\n",
    "f2r_a3 = f2r_tong.query('x>=0.255 & x<=0.345')\n",
    "#dp_np.query('BinCenter>=0.255 & BinCenter<=0.345',inplace=True)\n",
    "#dp_np.query('(BinCenter>=0.255 & BinCenter<=0.3) | BinCenter==0.345',inplace=True)\n",
    "dp_np.query('(BinCenter>=0.255 & BinCenter<=0.315)',inplace=True)\n",
    "\n",
    "h3.query('Bin_Center>=0.255 & Bin_Center<=0.315',inplace=True)"
   ]
  },
  {
   "cell_type": "code",
   "execution_count": 6,
   "metadata": {},
   "outputs": [
    {
     "name": "stdout",
     "output_type": "stream",
     "text": [
      "2.367282092272391\n"
     ]
    }
   ],
   "source": [
    "#Calculate Chi^2 for comparing He3/H2 extraction to H2/H1 extraction\n",
    "\n",
    "f2r = f2r.merge(dp_np,on='BinCenter')\n",
    "#display(f2r)\n",
    "# Xi2 = f2r.apply(lambda x: ((x.F2n_F2p - iso.f2np(x.BinCenter))**2)/x.F2n_F2p ,axis=1).sum()\n",
    "# print(Xi2)\n",
    "\n",
    "Chi2 = f2r.apply(lambda x: ((x.F2n_F2p - x.f2np)**2)/(x.F2n_F2p_Error**2),axis=1).sum()\n",
    "print(Chi2)"
   ]
  },
  {
   "cell_type": "code",
   "execution_count": 7,
   "metadata": {},
   "outputs": [
    {
     "name": "stdout",
     "output_type": "stream",
     "text": [
      "0.004046163593301857\n"
     ]
    }
   ],
   "source": [
    "h3.rename(columns={\"Bin_Center\" : \"BinCenter\"},inplace=True)\n",
    "h3 = h3.merge(dp_np,on=\"BinCenter\")\n",
    "\n",
    "H3Chi2 = h3.apply(lambda x: ((x.F2n_F2p - x.f2np)**2)/x.f2np,axis=1).sum()\n",
    "print(H3Chi2)"
   ]
  },
  {
   "cell_type": "code",
   "execution_count": 8,
   "metadata": {
    "scrolled": false
   },
   "outputs": [
    {
     "data": {
      "text/plain": [
       "Text(0, 0.5, 'Extracted $F_2^n/F_2^p$')"
      ]
     },
     "execution_count": 8,
     "metadata": {},
     "output_type": "execute_result"
    },
    {
     "data": {
      "image/png": "[encoded data removed]",
      "text/plain": [
       "<Figure size 1152x648 with 1 Axes>"
      ]
     },
     "metadata": {
      "needs_background": "light"
     },
     "output_type": "display_data"
    }
   ],
   "source": [
    "plt.figure(figsize=(16,9))\n",
    "plt.errorbar(f2r.BinCenter,f2r.F2n_F2p,f2r.F2n_F2p_Error,fmt='o',label='$^3$He/$^2$H',ms=10,mew=2)\n",
    "#plt.errorbar(f2r_a3.x,f2r_a3.f2r,f2r_a3.f2r_error,fmt='o',fillstyle='none',label='H3/He3',ms=10,mew=2)\n",
    "#plt.errorbar(f2r.BinCenter,iso.f2np(f2r.BinCenter),f2r.BinCenter.apply(iso.f2np_err),fmt='o',label='$^2$H/$^1$H Fit',ms=10,mew=2)\n",
    "#plt.errorbar(f2r_mike.Bin_Center,f2r_mike.F2n_F2p,f2r_mike.All_Error,fmt='o',fillstyle='none',label='$^3$H/$^2$H',ms=10,mew=2)\n",
    "plt.errorbar(f2r.BinCenter,f2r.f2np,f2r.f2np_err,fmt='o',label='$^2$H/$^1$H',ms=10,mew=2)\n",
    "#plt.plot(h3.BinCenter,h3.F2n_F2p,'o',label='$^3$H/$^2$H',ms=10)\n",
    "plt.legend(fontsize='x-large')\n",
    "plt.grid()\n",
    "plt.gca().set(ylim=(0.5,0.85))\n",
    "plt.title('$F_2^n/F_2^p$ Extraction from Ratios',fontsize='xx-large')\n",
    "plt.xlabel('Bjorken $x$',fontsize='x-large')\n",
    "plt.ylabel('Extracted $F_2^n/F_2^p$',fontsize='x-large')\n",
    "#plt.savefig('f2r_2_4_norm.eps')"
   ]
  },
  {
   "cell_type": "code",
   "execution_count": null,
   "metadata": {},
   "outputs": [],
   "source": []
  }
 ],
 "metadata": {
  "kernelspec": {
   "display_name": "Python 3",
   "language": "python",
   "name": "python3"
  },
  "language_info": {
   "codemirror_mode": {
    "name": "ipython",
    "version": 3
   },
   "file_extension": ".py",
   "mimetype": "text/x-python",
   "name": "python",
   "nbconvert_exporter": "python",
   "pygments_lexer": "ipython3",
   "version": "3.7.1"
  }
 },
 "nbformat": 4,
 "nbformat_minor": 2
}
